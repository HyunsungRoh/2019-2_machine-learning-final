{
 "cells": [
  {
   "cell_type": "markdown",
   "metadata": {},
   "source": [
    "### 0. Data Loading\n",
    "\n",
    "프로젝트 폴더에서 데이터를 불러온다 "
   ]
  },
  {
   "cell_type": "code",
   "execution_count": 1,
   "metadata": {},
   "outputs": [],
   "source": [
    "import re\n",
    "import pandas as pd\n",
    "import numpy as np \n",
    "import json\n",
    "\n",
    "dataOutPath='./data_out/'\n",
    "File = 'train_all.csv'\n",
    "#testFile = 'FDOT-clean.csv'\n",
    "\n",
    "Input = pd.read_csv(dataOutPath+File)\n",
    "#testInput = pd.read_csv(dataOutPath+testFile)  \n",
    "\n"
   ]
  },
  {
   "cell_type": "code",
   "execution_count": 2,
   "metadata": {},
   "outputs": [],
   "source": [
    "test_data = Input['clauses'][:414]\n",
    "test_label = Input['label'][:414]\n",
    "\n",
    "train_data = Input['clauses'][415:]\n",
    "train_label = Input['label'][415:]\n",
    "\n",
    "train_data_df = pd.DataFrame(data = {\"clauses\": train_data, \"label\":train_label})\n",
    "train_data_df.to_csv(dataOutPath+'train_data.csv')\n",
    "\n",
    "test_data_df = pd.DataFrame(data = {\"clauses\": test_data, \"label\":test_label})\n",
    "test_data_df.to_csv(dataOutPath+'test_data.csv')"
   ]
  },
  {
   "cell_type": "code",
   "execution_count": 3,
   "metadata": {},
   "outputs": [],
   "source": [
    "sentences =[]\n",
    "for clause in train_data:\n",
    "    sentences.append(clause.split())\n",
    "\n",
    "test_sent=[]\n",
    "for clause in test_data:\n",
    "    test_sent.append(clause.split())"
   ]
  },
  {
   "cell_type": "markdown",
   "metadata": {},
   "source": [
    " ### word2Vec - vectorizing hyperparameter\n",
    "\n",
    "- num_features: 각 단어에 대해 임베딩된 벡터의 차원 \n",
    "- min_word_count: 적은 빈도수의 단어는 제거하기위한 최소 단어 수 \n",
    "- num_workers: 학습 프로세스 수 \n",
    "- context: 워드투벡 수행시 컨텍스트 위도우 크기 지정 \n",
    "- downsampling: 다운샘플링 비율 \n"
   ]
  },
  {
   "cell_type": "code",
   "execution_count": 4,
   "metadata": {},
   "outputs": [],
   "source": [
    "# word2Vec - vectorizing hyperparameter \n",
    "\n",
    "num_features = 1000\n",
    "min_word_count=10\n",
    "num_workers=4\n",
    "context=2\n",
    "downsampling=1e-3\n"
   ]
  },
  {
   "cell_type": "code",
   "execution_count": 5,
   "metadata": {},
   "outputs": [],
   "source": [
    "import logging  \n",
    "\n",
    "logging.basicConfig(format='%(asctime)s : %(levelname)s : %(message)s', level= logging.INFO)"
   ]
  },
  {
   "cell_type": "code",
   "execution_count": 6,
   "metadata": {},
   "outputs": [
    {
     "name": "stderr",
     "output_type": "stream",
     "text": [
      "2019-11-26 23:33:25,931 : INFO : 'pattern' package not found; tag filters are not available for English\n",
      "2019-11-26 23:33:25,955 : INFO : collecting all words and their counts\n",
      "2019-11-26 23:33:25,956 : INFO : PROGRESS: at sentence #0, processed 0 words, keeping 0 word types\n",
      "2019-11-26 23:33:25,967 : INFO : collected 2139 word types from a corpus of 24305 raw words and 1659 sentences\n",
      "2019-11-26 23:33:25,968 : INFO : Loading a fresh vocabulary\n",
      "2019-11-26 23:33:25,974 : INFO : effective_min_count=10 retains 507 unique words (23% of original 2139, drops 1632)\n",
      "2019-11-26 23:33:25,976 : INFO : effective_min_count=10 leaves 19700 word corpus (81% of original 24305, drops 4605)\n",
      "2019-11-26 23:33:25,983 : INFO : deleting the raw counts dictionary of 2139 items\n",
      "2019-11-26 23:33:25,986 : INFO : sample=0.001 downsamples 93 most-common words\n",
      "2019-11-26 23:33:25,987 : INFO : downsampling leaves estimated 14896 word corpus (75.6% of prior 19700)\n",
      "2019-11-26 23:33:25,992 : INFO : estimated required memory for 507 words and 1000 dimensions: 4309500 bytes\n",
      "2019-11-26 23:33:25,993 : INFO : resetting layer weights\n",
      "2019-11-26 23:33:26,027 : INFO : training model with 4 workers on 507 vocabulary and 1000 features, using sg=1 hs=0 sample=0.001 negative=5 window=2\n",
      "2019-11-26 23:33:26,041 : INFO : worker thread finished; awaiting finish of 3 more threads\n",
      "2019-11-26 23:33:26,080 : INFO : worker thread finished; awaiting finish of 2 more threads\n",
      "2019-11-26 23:33:26,116 : INFO : worker thread finished; awaiting finish of 1 more threads\n",
      "2019-11-26 23:33:26,126 : INFO : worker thread finished; awaiting finish of 0 more threads\n",
      "2019-11-26 23:33:26,126 : INFO : EPOCH - 1 : training on 24305 raw words (14790 effective words) took 0.1s, 160249 effective words/s\n",
      "2019-11-26 23:33:26,147 : INFO : worker thread finished; awaiting finish of 3 more threads"
     ]
    },
    {
     "name": "stdout",
     "output_type": "stream",
     "text": [
      "training model...\n"
     ]
    },
    {
     "name": "stderr",
     "output_type": "stream",
     "text": [
      "\n",
      "2019-11-26 23:33:26,190 : INFO : worker thread finished; awaiting finish of 2 more threads\n",
      "2019-11-26 23:33:26,217 : INFO : worker thread finished; awaiting finish of 1 more threads\n",
      "2019-11-26 23:33:26,224 : INFO : worker thread finished; awaiting finish of 0 more threads\n",
      "2019-11-26 23:33:26,224 : INFO : EPOCH - 2 : training on 24305 raw words (14897 effective words) took 0.1s, 172167 effective words/s\n",
      "2019-11-26 23:33:26,235 : INFO : worker thread finished; awaiting finish of 3 more threads\n",
      "2019-11-26 23:33:26,276 : INFO : worker thread finished; awaiting finish of 2 more threads\n",
      "2019-11-26 23:33:26,308 : INFO : worker thread finished; awaiting finish of 1 more threads\n",
      "2019-11-26 23:33:26,312 : INFO : worker thread finished; awaiting finish of 0 more threads\n",
      "2019-11-26 23:33:26,313 : INFO : EPOCH - 3 : training on 24305 raw words (14908 effective words) took 0.1s, 178596 effective words/s\n",
      "2019-11-26 23:33:26,326 : INFO : worker thread finished; awaiting finish of 3 more threads\n",
      "2019-11-26 23:33:26,368 : INFO : worker thread finished; awaiting finish of 2 more threads\n",
      "2019-11-26 23:33:26,395 : INFO : worker thread finished; awaiting finish of 1 more threads\n",
      "2019-11-26 23:33:26,405 : INFO : worker thread finished; awaiting finish of 0 more threads\n",
      "2019-11-26 23:33:26,406 : INFO : EPOCH - 4 : training on 24305 raw words (14933 effective words) took 0.1s, 177688 effective words/s\n",
      "2019-11-26 23:33:26,428 : INFO : worker thread finished; awaiting finish of 3 more threads\n",
      "2019-11-26 23:33:26,467 : INFO : worker thread finished; awaiting finish of 2 more threads\n",
      "2019-11-26 23:33:26,497 : INFO : worker thread finished; awaiting finish of 1 more threads\n",
      "2019-11-26 23:33:26,502 : INFO : worker thread finished; awaiting finish of 0 more threads\n",
      "2019-11-26 23:33:26,504 : INFO : EPOCH - 5 : training on 24305 raw words (14949 effective words) took 0.1s, 170729 effective words/s\n",
      "2019-11-26 23:33:26,505 : INFO : training on a 121525 raw words (74477 effective words) took 0.5s, 156104 effective words/s\n",
      "2019-11-26 23:33:26,506 : WARNING : under 10 jobs per worker: consider setting a smaller `batch_words' for smoother alpha decay\n"
     ]
    }
   ],
   "source": [
    "from gensim.models import word2vec\n",
    "print(\"training model...\")\n",
    "model = word2vec.Word2Vec(sentences, \n",
    "                          workers=num_workers, \n",
    "                          size= num_features, \n",
    "                          min_count=min_word_count, \n",
    "                          window= context, \n",
    "                          sg=1,\n",
    "                          sample = downsampling)"
   ]
  },
  {
   "cell_type": "code",
   "execution_count": 7,
   "metadata": {},
   "outputs": [
    {
     "name": "stderr",
     "output_type": "stream",
     "text": [
      "2019-11-26 23:33:40,764 : INFO : saving Word2Vec object under ./data_out/wvModels/1126-train-wvModel, separately None\n",
      "2019-11-26 23:33:40,766 : INFO : not storing attribute vectors_norm\n",
      "2019-11-26 23:33:40,767 : INFO : not storing attribute cum_table\n",
      "C:\\Users\\user\\Anaconda3\\lib\\site-packages\\smart_open\\smart_open_lib.py:398: UserWarning: This function is deprecated, use smart_open.open instead. See the migration notes for details: https://github.com/RaRe-Technologies/smart_open/blob/master/README.rst#migrating-to-the-new-open-function\n",
      "  'See the migration notes for details: %s' % _MIGRATION_NOTES_URL\n",
      "2019-11-26 23:33:40,836 : INFO : saved ./data_out/wvModels/1126-train-wvModel\n"
     ]
    }
   ],
   "source": [
    "dataOutPath='./data_out/wvModels/'\n",
    "model_name = '1126-train-wvModel'\n",
    "model.save(dataOutPath+model_name)"
   ]
  },
  {
   "cell_type": "code",
   "execution_count": 8,
   "metadata": {},
   "outputs": [
    {
     "data": {
      "text/plain": [
       "<gensim.models.word2vec.Word2Vec at 0x18c7488aa90>"
      ]
     },
     "execution_count": 8,
     "metadata": {},
     "output_type": "execute_result"
    }
   ],
   "source": [
    "model"
   ]
  },
  {
   "cell_type": "code",
   "execution_count": 9,
   "metadata": {},
   "outputs": [],
   "source": [
    "def make_feature_vec(clauses, model, num_features):\n",
    "    feature_vec = np.zeros((num_features, ), dtype='float32')\n",
    "    nwords = 0.\n",
    "    index2word_set = set(model.wv.index2word)\n",
    "    \n",
    "    for word in clauses:\n",
    "        if word in index2word_set:\n",
    "            nwords = nwords +1.\n",
    "            feature_vec = np.add(feature_vec, model[word])\n",
    "    feature_vec = np.divide(feature_vec, nwords)\n",
    "    return feature_vec"
   ]
  },
  {
   "cell_type": "code",
   "execution_count": 10,
   "metadata": {},
   "outputs": [],
   "source": [
    "def get_avg_feature_vec(sentences, model, num_features):\n",
    "    \n",
    "    clauses_feature_vecs = np.zeros((len(sentences), num_features), dtype='float32')\n",
    "    \n",
    "    for i, clauses in enumerate(sentences):\n",
    "        clauses_feature_vecs[i] = make_feature_vec(clauses, model, num_features)\n",
    "    \n",
    "    return clauses_feature_vecs"
   ]
  },
  {
   "cell_type": "code",
   "execution_count": 11,
   "metadata": {},
   "outputs": [
    {
     "name": "stderr",
     "output_type": "stream",
     "text": [
      "C:\\Users\\user\\Anaconda3\\lib\\site-packages\\ipykernel_launcher.py:9: DeprecationWarning: Call to deprecated `__getitem__` (Method will be removed in 4.0.0, use self.wv.__getitem__() instead).\n",
      "  if __name__ == '__main__':\n"
     ]
    }
   ],
   "source": [
    "training_vec = get_avg_feature_vec(sentences, model,num_features)\n",
    "test_vec = get_avg_feature_vec(test_sent,model, num_features)"
   ]
  },
  {
   "cell_type": "code",
   "execution_count": 12,
   "metadata": {},
   "outputs": [
    {
     "data": {
      "text/plain": [
       "array([[-1.8672199e-03, -2.0716395e-04,  8.1261940e-02, ...,\n",
       "         2.1132234e-02, -1.1783892e-02, -3.0656539e-02],\n",
       "       [-1.8930067e-03, -1.4160702e-04,  7.8604855e-02, ...,\n",
       "         2.0613899e-02, -1.1495780e-02, -2.9127987e-02],\n",
       "       [-1.7806385e-03, -6.4423139e-04,  8.0798224e-02, ...,\n",
       "         2.0886796e-02, -1.1806290e-02, -3.0085692e-02],\n",
       "       ...,\n",
       "       [-1.4902474e-03,  5.9511065e-05,  8.0915585e-02, ...,\n",
       "         2.1244293e-02, -1.2060645e-02, -3.0674154e-02],\n",
       "       [-1.7335260e-03, -6.0064491e-04,  7.6889098e-02, ...,\n",
       "         1.9991465e-02, -1.1061103e-02, -2.9178079e-02],\n",
       "       [-1.6983390e-03, -3.5128242e-04,  7.3053911e-02, ...,\n",
       "         1.9096652e-02, -1.0670877e-02, -2.7415082e-02]], dtype=float32)"
      ]
     },
     "execution_count": 12,
     "metadata": {},
     "output_type": "execute_result"
    }
   ],
   "source": [
    "training_vec"
   ]
  },
  {
   "cell_type": "markdown",
   "metadata": {},
   "source": [
    "### 3. 훈련데이터와 검증데이터 나누기\n",
    "\n",
    "전체 훈련데이터를  t_size 비율만큼 훈련:검증 데이터로 나눈다. \n",
    "sklearn의 train_test_split 함수를 사용해서 자동으로 분할한다. "
   ]
  },
  {
   "cell_type": "code",
   "execution_count": 14,
   "metadata": {},
   "outputs": [
    {
     "data": {
      "text/plain": [
       "(1327, 1000)"
      ]
     },
     "execution_count": 14,
     "metadata": {},
     "output_type": "execute_result"
    }
   ],
   "source": [
    "from sklearn.model_selection import train_test_split\n",
    "\n",
    "t_size=0.2 \n",
    "r_seed=23\n",
    "\n",
    "train_cl, eval_cl, train_lb, eval_lb = train_test_split(training_vec, train_label, test_size=t_size, random_state=r_seed )\n",
    "\n",
    "train_cl.shape"
   ]
  },
  {
   "cell_type": "markdown",
   "metadata": {},
   "source": [
    "### 4. 랜덤포레스트 분류\n",
    "\n",
    "- RandomForestClassifier 는 sklearn의 ensemble  라이브러리에서 제공한다. \n",
    "- forest라는 이름으로 분류기 객체를 생성하고, n_estimators 변수로 결정트리의 개수를 지정한다. \n",
    "- forest.fit 함수의 인자로 훈련 데이터와 레이블을 주입한다. \n",
    "- 검증데이터셋 (eval_cl, eval_lb)로 분류정확도를 측정한다. \n"
   ]
  },
  {
   "cell_type": "code",
   "execution_count": 15,
   "metadata": {},
   "outputs": [
    {
     "data": {
      "text/plain": [
       "RandomForestClassifier(bootstrap=True, class_weight=None, criterion='gini',\n",
       "                       max_depth=None, max_features='auto', max_leaf_nodes=None,\n",
       "                       min_impurity_decrease=0.0, min_impurity_split=None,\n",
       "                       min_samples_leaf=1, min_samples_split=2,\n",
       "                       min_weight_fraction_leaf=0.0, n_estimators=100,\n",
       "                       n_jobs=None, oob_score=False, random_state=None,\n",
       "                       verbose=0, warm_start=False)"
      ]
     },
     "execution_count": 15,
     "metadata": {},
     "output_type": "execute_result"
    }
   ],
   "source": [
    "from sklearn.ensemble import RandomForestClassifier \n",
    "\n",
    "forest = RandomForestClassifier(n_estimators=100)\n",
    "\n",
    "forest.fit(train_cl, train_lb)"
   ]
  },
  {
   "cell_type": "code",
   "execution_count": 16,
   "metadata": {},
   "outputs": [
    {
     "name": "stdout",
     "output_type": "stream",
     "text": [
      "Accuracy of training: 1.000000\n",
      "Accuracy: 0.698795\n"
     ]
    }
   ],
   "source": [
    "print(\"Accuracy of training: %f\" % forest.score(train_cl, train_lb))\n",
    "print(\"Accuracy: %f\" % forest.score(eval_cl, eval_lb))"
   ]
  },
  {
   "cell_type": "markdown",
   "metadata": {},
   "source": [
    "### 4.1 분류결과 \n",
    "- n_estimators =n 일때, n 값이 커질수록 정확도가 향상됨을 알 수 있다. \n",
    "- n=100 일때 accuracy = 95% 달성 \n",
    "\n",
    "- lema 보다 stemming 했을때 더 정확도가 높게 나옴 "
   ]
  },
  {
   "cell_type": "code",
   "execution_count": 17,
   "metadata": {},
   "outputs": [
    {
     "data": {
      "text/plain": [
       "array([[ 70,  56],\n",
       "       [ 44, 162]], dtype=int64)"
      ]
     },
     "execution_count": 17,
     "metadata": {},
     "output_type": "execute_result"
    }
   ],
   "source": [
    "from sklearn.metrics import confusion_matrix\n",
    "y_pred = forest.predict(eval_cl)\n",
    "cm = confusion_matrix(eval_lb, y_pred)\n",
    "cm"
   ]
  },
  {
   "cell_type": "code",
   "execution_count": 18,
   "metadata": {},
   "outputs": [
    {
     "data": {
      "text/plain": [
       "Text(69,0.5,'Truth')"
      ]
     },
     "execution_count": 18,
     "metadata": {},
     "output_type": "execute_result"
    },
    {
     "data": {
      "image/png": "[encoded data removed]",
      "text/plain": [
       "<Figure size 720x504 with 2 Axes>"
      ]
     },
     "metadata": {},
     "output_type": "display_data"
    }
   ],
   "source": [
    "%matplotlib inline\n",
    "import matplotlib.pyplot as plt\n",
    "import seaborn as sn\n",
    "plt.figure(figsize=(10,7))\n",
    "sn.heatmap(cm, annot = True)\n",
    "plt.xlabel('Predected')\n",
    "plt.ylabel('Truth')"
   ]
  },
  {
   "cell_type": "code",
   "execution_count": 19,
   "metadata": {},
   "outputs": [],
   "source": [
    "import os \n",
    "# 테스트 데이터 파일에 쓰기 -\n",
    "\n",
    "output_PATH='./data_out/results/'\n",
    "\n",
    "if not os.path.exists(output_PATH):\n",
    "    os.makedirs(output_PATH)\n",
    "    \n",
    "# 위에서 만든 랜덤 포레스트 분류기를 통해 예측값을 가져온다.\n",
    "result = forest.predict(test_vec)\n",
    "\n",
    "# 판다스 데이터 프레임을 통해 데이터를 구성해서 output에 넣는다.\n",
    "output = pd.DataFrame( data={\"label\": test_label ,  \"predict\": result} )\n",
    "\n",
    "# 이제 csv파일로 만든다.\n",
    "output.to_csv(output_PATH + \"w2v-predict-test.csv\", index=False, quoting=3 )"
   ]
  },
  {
   "cell_type": "code",
   "execution_count": null,
   "metadata": {},
   "outputs": [],
   "source": []
  }
 ],
 "metadata": {
  "kernelspec": {
   "display_name": "Python 3",
   "language": "python",
   "name": "python3"
  },
  "language_info": {
   "codemirror_mode": {
    "name": "ipython",
    "version": 3
   },
   "file_extension": ".py",
   "mimetype": "text/x-python",
   "name": "python",
   "nbconvert_exporter": "python",
   "pygments_lexer": "ipython3",
   "version": "3.6.5"
  }
 },
 "nbformat": 4,
 "nbformat_minor": 2
}
