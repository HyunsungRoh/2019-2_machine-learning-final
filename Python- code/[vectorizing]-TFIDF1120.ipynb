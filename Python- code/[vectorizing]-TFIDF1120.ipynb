{
 "cells": [
  {
   "attachments": {},
   "cell_type": "markdown",
   "metadata": {},
   "source": [
    "## 2) TF-IDF embedding\n",
    "\n",
    "<img src='./images/tfidf.png'>"
   ]
  },
  {
   "cell_type": "code",
   "execution_count": 1,
   "metadata": {},
   "outputs": [
    {
     "data": {
      "text/plain": [
       "'free stress length polyethylen plastic tube conform astm type ii iii iv minimum wall thick mil millimet hot melt extrud polypropylen tube conform astm cell classif pp minimum wall thick mil millimet hot melt extrud polyethylen tube conform astm astm type iii high densiti minimum wall thick mil millimet steel tube conform astm minimum wall thick inch millimet steel pipe conform astm schedul minimum plastic pipe conform astm schedul minimum'"
      ]
     },
     "execution_count": 1,
     "metadata": {},
     "output_type": "execute_result"
    }
   ],
   "source": [
    "import re\n",
    "import pandas as pd\n",
    "import numpy as np \n",
    "\n",
    "dataOutPath='./data_out/'\n",
    "train_clean ='train_clean.csv'\n",
    "\n",
    "train_input = pd.read_csv(dataOutPath+train_clean, header=0, quoting=3)\n",
    "\n",
    "clauses= list(train_input['clauses'])\n",
    "label = list(train_input['label'])\n",
    "\n",
    "clauses [9]\n"
   ]
  },
  {
   "cell_type": "markdown",
   "metadata": {},
   "source": [
    "**TF-IDF hyperparameter**\n",
    "\n",
    "- ngram_range: 단어 빈도의 기본단위를 얼만큼의 n-gram으로 설정할지 \n",
    "- min_df : 설정한 값보다 특정 토큰의 df 값이 더 작게 나오면 벡터화에서 제거 \n",
    "- analyzer: char / word - 임베딩 단위를 문자로할지 단어로할지. \n",
    "- sublinear_tf: 문서의 단어 빈도수에 대한 스무딩(smoothing)을 설정 "
   ]
  },
  {
   "cell_type": "code",
   "execution_count": 2,
   "metadata": {},
   "outputs": [],
   "source": [
    "from sklearn.feature_extraction.text import TfidfVectorizer\n",
    "\n",
    "vectorizer = TfidfVectorizer(ngram_range=(1,1),\n",
    "                            min_df=0.0,\n",
    "                            analyzer=\"word\",\n",
    "                            sublinear_tf =True)\n",
    "\n",
    "clauses_vec=vectorizer.fit_transform(clauses)\n"
   ]
  },
  {
   "cell_type": "code",
   "execution_count": 5,
   "metadata": {},
   "outputs": [],
   "source": [
    "train_label = np.array(label)"
   ]
  },
  {
   "cell_type": "markdown",
   "metadata": {},
   "source": [
    "** TF-IDF vectorizing results **\n",
    "\n",
    "- clasues_vec \n",
    "- train_label :numpy array"
   ]
  }
 ],
 "metadata": {
  "kernelspec": {
   "display_name": "Python 3",
   "language": "python",
   "name": "python3"
  },
  "language_info": {
   "codemirror_mode": {
    "name": "ipython",
    "version": 3
   },
   "file_extension": ".py",
   "mimetype": "text/x-python",
   "name": "python",
   "nbconvert_exporter": "python",
   "pygments_lexer": "ipython3",
   "version": "3.6.5"
  }
 },
 "nbformat": 4,
 "nbformat_minor": 2
}
