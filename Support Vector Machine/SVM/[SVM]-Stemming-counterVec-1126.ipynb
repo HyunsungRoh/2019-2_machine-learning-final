{
 "cells": [
  {
   "cell_type": "markdown",
   "metadata": {},
   "source": [
    "## Support Vector Machine with counterVectorization(+stemming)"
   ]
  },
  {
   "cell_type": "code",
   "execution_count": 1,
   "metadata": {},
   "outputs": [],
   "source": [
    "import os\n",
    "import re\n",
    "import pandas as pd\n",
    "import numpy as np\n",
    "import json\n",
    "np.seterr(divide='ignore', invalid='ignore')\n",
    "\n",
    "from nltk.corpus import stopwords\n",
    "from nltk.tokenize import word_tokenize\n",
    "from sklearn.feature_extraction.text import CountVectorizer"
   ]
  },
  {
   "cell_type": "code",
   "execution_count": 2,
   "metadata": {},
   "outputs": [],
   "source": [
    "data_in_path = './data_in/'\n",
    "data_out_path = './data_out/'\n",
    "train_data = 'train_data.csv'\n",
    "test_data = 'test_data.csv'\n",
    "\n",
    "train_data = pd.read_csv(data_in_path + train_data)\n",
    "test_data = pd.read_csv(data_in_path + test_data)\n",
    "\n",
    "random_seed = 42\n",
    "test_split = 0.2"
   ]
  },
  {
   "cell_type": "code",
   "execution_count": 3,
   "metadata": {},
   "outputs": [],
   "source": [
    "clause_input= train_data['clauses']\n",
    "label_input=train_data['label']\n",
    "\n",
    "test_input = test_data['clauses']\n",
    "\n",
    "#트레이닝셋 벡터화\n",
    "vectorizer = CountVectorizer(analyzer=\"word\", max_features=100)\n",
    "train_stem = vectorizer.fit_transform(clause_input)\n",
    "label_stem = np.array(train_data['label'])\n",
    "\n",
    "#테스트셋에 transform  \n",
    "test_vecs = vectorizer.transform(test_input)"
   ]
  },
  {
   "cell_type": "code",
   "execution_count": 4,
   "metadata": {},
   "outputs": [
    {
     "name": "stdout",
     "output_type": "stream",
     "text": [
      "training set featues:  (1659, 100)\n",
      "label feature:  (1659,)\n"
     ]
    }
   ],
   "source": [
    "print(\"training set featues: \",train_stem.shape)\n",
    "print(\"label feature: \",label_stem.shape)"
   ]
  },
  {
   "cell_type": "code",
   "execution_count": 5,
   "metadata": {},
   "outputs": [],
   "source": [
    "from sklearn.model_selection import train_test_split\n",
    "\n",
    "vec = train_stem\n",
    "lab = label_stem\n",
    "\n",
    "vec_train, vec_eval, lab_train, lab_eval = train_test_split(vec, lab, test_size=test_split, random_state=random_seed)"
   ]
  },
  {
   "cell_type": "code",
   "execution_count": 6,
   "metadata": {},
   "outputs": [],
   "source": [
    "#print(vec_train[0])"
   ]
  },
  {
   "cell_type": "code",
   "execution_count": 7,
   "metadata": {
    "scrolled": true
   },
   "outputs": [
    {
     "data": {
      "text/plain": [
       "SVC(C=1.0, cache_size=200, class_weight=None, coef0=0.0,\n",
       "    decision_function_shape='ovr', degree=3, gamma='auto', kernel='linear',\n",
       "    max_iter=-1, probability=True, random_state=42, shrinking=True, tol=0.001,\n",
       "    verbose=False)"
      ]
     },
     "execution_count": 7,
     "metadata": {},
     "output_type": "execute_result"
    }
   ],
   "source": [
    "from sklearn import svm\n",
    "clf = svm.SVC(kernel = 'linear', C = 1.0, gamma = 'auto', random_state = 42, probability = True)\n",
    "\n",
    "clf.fit(vec_train, lab_train)"
   ]
  },
  {
   "cell_type": "code",
   "execution_count": 8,
   "metadata": {},
   "outputs": [
    {
     "name": "stdout",
     "output_type": "stream",
     "text": [
      "Accuracy of training: 0.906556\n",
      "Accuracy: 0.909639\n"
     ]
    }
   ],
   "source": [
    "print(\"Accuracy of training: %f\" % clf.score(vec_train, lab_train))\n",
    "print(\"Accuracy: %f\" % clf.score(vec_eval, lab_eval))"
   ]
  },
  {
   "cell_type": "markdown",
   "metadata": {},
   "source": [
    "## 여기서부터 테스트"
   ]
  },
  {
   "cell_type": "code",
   "execution_count": 9,
   "metadata": {
    "scrolled": true
   },
   "outputs": [],
   "source": [
    "# 위에서 만든 랜덤 포레스트 분류기를 통해 예측값을 가져온다.\n",
    "result = clf.predict(test_vecs)"
   ]
  },
  {
   "cell_type": "code",
   "execution_count": 10,
   "metadata": {},
   "outputs": [],
   "source": [
    "import os\n",
    "# 테스트 데이터 파일에 쓰기 -\n",
    "\n",
    "test_clauses = list(test_data['clauses'])\n",
    "test_label = list(test_data['label'])\n",
    "\n",
    "if not os.path.exists(data_out_path):\n",
    "    os.makedirs(data_out_path)\n",
    "\n",
    "# 판다스 데이터 프레임을 통해 데이터를 구성해서 output에 넣는다.\n",
    "output = pd.DataFrame( data={\"label\": test_label ,  \"predict\": result} )\n",
    "\n",
    "# 이제 csv파일로 만든다.\n",
    "output.to_csv(data_out_path + \"svm-countvec-predict-test-stem.csv\", index=False, quoting=3)"
   ]
  },
  {
   "cell_type": "code",
   "execution_count": 11,
   "metadata": {},
   "outputs": [
    {
     "name": "stdout",
     "output_type": "stream",
     "text": [
      "------------\n",
      "Accuracy: 0.884058\n",
      "Precision: 0.915556\n",
      "Recall: 0.876596\n",
      "F1-Score: 0.895652\n"
     ]
    }
   ],
   "source": [
    "from sklearn import metrics\n",
    "\n",
    "fpr, tpr, _ = metrics.roc_curve(lab_eval, (clf.predict_proba(vec_eval)[:, 1]))\n",
    "auc = metrics.auc(fpr, tpr)\n",
    "\n",
    "print(\"------------\")\n",
    "print(\"Accuracy: %f\" % clf.score(test_vecs, test_data['label']))  #checking the accuracy\n",
    "print(\"Precision: %f\" % metrics.precision_score(test_data['label'], result))\n",
    "print(\"Recall: %f\" % metrics.recall_score(test_data['label'], result))\n",
    "print(\"F1-Score: %f\" % metrics.f1_score(test_data['label'], result))"
   ]
  }
 ],
 "metadata": {
  "kernelspec": {
   "display_name": "Python 3",
   "language": "python",
   "name": "python3"
  },
  "language_info": {
   "codemirror_mode": {
    "name": "ipython",
    "version": 3
   },
   "file_extension": ".py",
   "mimetype": "text/x-python",
   "name": "python",
   "nbconvert_exporter": "python",
   "pygments_lexer": "ipython3",
   "version": "3.7.4"
  }
 },
 "nbformat": 4,
 "nbformat_minor": 2
}
