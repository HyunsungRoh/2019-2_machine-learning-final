{
 "cells": [
  {
   "cell_type": "markdown",
   "metadata": {},
   "source": [
    "## Lgistic Regression with Word2Vec(+stemming)"
   ]
  },
  {
   "cell_type": "code",
   "execution_count": 1,
   "metadata": {},
   "outputs": [],
   "source": [
    "import os\n",
    "import re\n",
    "\n",
    "import pandas as pd\n",
    "import numpy as np\n",
    "np.seterr(divide='ignore', invalid='ignore')\n",
    "\n",
    "from nltk.corpus import stopwords\n",
    "from nltk.tokenize import word_tokenize"
   ]
  },
  {
   "cell_type": "code",
   "execution_count": 2,
   "metadata": {},
   "outputs": [],
   "source": [
    "data_in_path = './data_in/'\n",
    "data_out_path = './data_out/'\n",
    "train_data = 'train_data.csv'\n",
    "test_data = 'test_data.csv'\n",
    "\n",
    "random_seed = 10\n",
    "test_split = 0.2"
   ]
  },
  {
   "cell_type": "code",
   "execution_count": 3,
   "metadata": {},
   "outputs": [],
   "source": [
    "train_data = pd.read_csv(data_in_path + train_data)"
   ]
  },
  {
   "cell_type": "code",
   "execution_count": 4,
   "metadata": {},
   "outputs": [],
   "source": [
    "train_clause = list(train_data['clauses'])\n",
    "train_label = list(train_data['label'])"
   ]
  },
  {
   "cell_type": "code",
   "execution_count": 5,
   "metadata": {},
   "outputs": [],
   "source": [
    "sentences = []\n",
    "for clauses in train_clause:\n",
    "    sentences.append(clauses.split())"
   ]
  },
  {
   "cell_type": "code",
   "execution_count": 6,
   "metadata": {},
   "outputs": [],
   "source": [
    "num_features = 100\n",
    "min_word_count = 40\n",
    "num_workers = 6\n",
    "context = 2\n",
    "downsampling = 1e-3"
   ]
  },
  {
   "cell_type": "code",
   "execution_count": 8,
   "metadata": {},
   "outputs": [],
   "source": [
    "import logging\n",
    "logging.basicConfig(format='%(asctime)s : %(levelname)s : %(message)s',level=logging.INFO)"
   ]
  },
  {
   "cell_type": "code",
   "execution_count": 9,
   "metadata": {},
   "outputs": [
    {
     "name": "stderr",
     "output_type": "stream",
     "text": [
      "2019-11-27 16:10:28,120 : INFO : collecting all words and their counts\n",
      "2019-11-27 16:10:28,122 : INFO : PROGRESS: at sentence #0, processed 0 words, keeping 0 word types\n",
      "2019-11-27 16:10:28,130 : INFO : collected 2139 word types from a corpus of 24305 raw words and 1659 sentences\n",
      "2019-11-27 16:10:28,131 : INFO : Loading a fresh vocabulary\n",
      "2019-11-27 16:10:28,133 : INFO : effective_min_count=40 retains 131 unique words (6% of original 2139, drops 2008)\n",
      "2019-11-27 16:10:28,134 : INFO : effective_min_count=40 leaves 12552 word corpus (51% of original 24305, drops 11753)\n",
      "2019-11-27 16:10:28,135 : INFO : deleting the raw counts dictionary of 2139 items\n",
      "2019-11-27 16:10:28,135 : INFO : sample=0.001 downsamples 131 most-common words\n",
      "2019-11-27 16:10:28,136 : INFO : downsampling leaves estimated 5907 word corpus (47.1% of prior 12552)\n",
      "2019-11-27 16:10:28,136 : INFO : estimated required memory for 131 words and 100 dimensions: 170300 bytes\n",
      "2019-11-27 16:10:28,137 : INFO : resetting layer weights\n",
      "2019-11-27 16:10:28,173 : INFO : training model with 6 workers on 131 vocabulary and 100 features, using sg=0 hs=0 sample=0.001 negative=5 window=2\n",
      "2019-11-27 16:10:28,181 : INFO : worker thread finished; awaiting finish of 5 more threads\n",
      "2019-11-27 16:10:28,185 : INFO : worker thread finished; awaiting finish of 4 more threads\n",
      "2019-11-27 16:10:28,185 : INFO : worker thread finished; awaiting finish of 3 more threads\n",
      "2019-11-27 16:10:28,186 : INFO : worker thread finished; awaiting finish of 2 more threads\n",
      "2019-11-27 16:10:28,187 : INFO : worker thread finished; awaiting finish of 1 more threads\n",
      "2019-11-27 16:10:28,187 : INFO : worker thread finished; awaiting finish of 0 more threads\n",
      "2019-11-27 16:10:28,188 : INFO : EPOCH - 1 : training on 24305 raw words (5807 effective words) took 0.0s, 902311 effective words/s\n",
      "2019-11-27 16:10:28,193 : INFO : worker thread finished; awaiting finish of 5 more threads\n",
      "2019-11-27 16:10:28,195 : INFO : worker thread finished; awaiting finish of 4 more threads\n",
      "2019-11-27 16:10:28,197 : INFO : worker thread finished; awaiting finish of 3 more threads\n",
      "2019-11-27 16:10:28,198 : INFO : worker thread finished; awaiting finish of 2 more threads\n",
      "2019-11-27 16:10:28,199 : INFO : worker thread finished; awaiting finish of 1 more threads\n",
      "2019-11-27 16:10:28,200 : INFO : worker thread finished; awaiting finish of 0 more threads\n",
      "2019-11-27 16:10:28,200 : INFO : EPOCH - 2 : training on 24305 raw words (5900 effective words) took 0.0s, 810573 effective words/s\n",
      "2019-11-27 16:10:28,208 : INFO : worker thread finished; awaiting finish of 5 more threads\n",
      "2019-11-27 16:10:28,209 : INFO : worker thread finished; awaiting finish of 4 more threads\n",
      "2019-11-27 16:10:28,210 : INFO : worker thread finished; awaiting finish of 3 more threads\n",
      "2019-11-27 16:10:28,210 : INFO : worker thread finished; awaiting finish of 2 more threads\n",
      "2019-11-27 16:10:28,211 : INFO : worker thread finished; awaiting finish of 1 more threads\n",
      "2019-11-27 16:10:28,211 : INFO : worker thread finished; awaiting finish of 0 more threads\n",
      "2019-11-27 16:10:28,212 : INFO : EPOCH - 3 : training on 24305 raw words (5915 effective words) took 0.0s, 845616 effective words/s\n",
      "2019-11-27 16:10:28,219 : INFO : worker thread finished; awaiting finish of 5 more threads\n",
      "2019-11-27 16:10:28,222 : INFO : worker thread finished; awaiting finish of 4 more threads\n",
      "2019-11-27 16:10:28,222 : INFO : worker thread finished; awaiting finish of 3 more threads\n",
      "2019-11-27 16:10:28,223 : INFO : worker thread finished; awaiting finish of 2 more threads\n",
      "2019-11-27 16:10:28,223 : INFO : worker thread finished; awaiting finish of 1 more threads\n",
      "2019-11-27 16:10:28,224 : INFO : worker thread finished; awaiting finish of 0 more threads\n",
      "2019-11-27 16:10:28,224 : INFO : EPOCH - 4 : training on 24305 raw words (5882 effective words) took 0.0s, 770561 effective words/s\n",
      "2019-11-27 16:10:28,234 : INFO : worker thread finished; awaiting finish of 5 more threads\n",
      "2019-11-27 16:10:28,235 : INFO : worker thread finished; awaiting finish of 4 more threads\n",
      "2019-11-27 16:10:28,236 : INFO : worker thread finished; awaiting finish of 3 more threads\n",
      "2019-11-27 16:10:28,237 : INFO : worker thread finished; awaiting finish of 2 more threads\n",
      "2019-11-27 16:10:28,237 : INFO : worker thread finished; awaiting finish of 1 more threads\n",
      "2019-11-27 16:10:28,238 : INFO : worker thread finished; awaiting finish of 0 more threads\n",
      "2019-11-27 16:10:28,239 : INFO : EPOCH - 5 : training on 24305 raw words (5913 effective words) took 0.0s, 756274 effective words/s\n",
      "2019-11-27 16:10:28,239 : INFO : training on a 121525 raw words (29417 effective words) took 0.1s, 452580 effective words/s\n",
      "2019-11-27 16:10:28,240 : WARNING : under 10 jobs per worker: consider setting a smaller `batch_words' for smoother alpha decay\n"
     ]
    }
   ],
   "source": [
    "from gensim.models import word2vec\n",
    "\n",
    "model = word2vec.Word2Vec(sentences, workers=num_workers, \\\n",
    "           size=num_features, min_count = min_word_count, \\\n",
    "            window = context, sample = downsampling)"
   ]
  },
  {
   "cell_type": "code",
   "execution_count": 10,
   "metadata": {},
   "outputs": [
    {
     "name": "stderr",
     "output_type": "stream",
     "text": [
      "2019-11-27 16:10:28,244 : INFO : saving Word2Vec object under ./data_out/1121-stem_word2vec_model, separately None\n",
      "2019-11-27 16:10:28,245 : INFO : not storing attribute vectors_norm\n",
      "2019-11-27 16:10:28,245 : INFO : not storing attribute cum_table\n",
      "2019-11-27 16:10:28,249 : INFO : saved ./data_out/1121-stem_word2vec_model\n"
     ]
    }
   ],
   "source": [
    "model_name = '1121-stem_word2vec_model'\n",
    "model.save(data_out_path+model_name)"
   ]
  },
  {
   "cell_type": "code",
   "execution_count": 11,
   "metadata": {},
   "outputs": [],
   "source": [
    "def get_features(words, model, num_features):\n",
    "    feature_vector = np.zeros((num_features),dtype=np.float64)\n",
    "\n",
    "    num_words = 0\n",
    "    index2word_set = set(model.wv.index2word)\n",
    "\n",
    "    for w in words:\n",
    "        if w in index2word_set:\n",
    "            num_words += 1\n",
    "            feature_vector = np.add(feature_vector, model[w])\n",
    "\n",
    "    feature_vector = np.divide(feature_vector, num_words)\n",
    "    return feature_vector"
   ]
  },
  {
   "cell_type": "code",
   "execution_count": 12,
   "metadata": {},
   "outputs": [],
   "source": [
    "def get_dataset(clauses, model, num_features):\n",
    "    dataset = list()\n",
    "\n",
    "    for s in clauses:\n",
    "        dataset.append(get_features(s, model, num_features))\n",
    "\n",
    "    clauseFeatureVecs = np.stack(dataset)\n",
    "    \n",
    "    return clauseFeatureVecs"
   ]
  },
  {
   "cell_type": "code",
   "execution_count": 13,
   "metadata": {},
   "outputs": [
    {
     "name": "stderr",
     "output_type": "stream",
     "text": [
      "C:\\Users\\hsfra\\Anaconda3\\lib\\site-packages\\ipykernel_launcher.py:10: DeprecationWarning: Call to deprecated `__getitem__` (Method will be removed in 4.0.0, use self.wv.__getitem__() instead).\n",
      "  # Remove the CWD from sys.path while we load stuff.\n"
     ]
    }
   ],
   "source": [
    "train_data_vecs = get_dataset(sentences, model, num_features)"
   ]
  },
  {
   "cell_type": "code",
   "execution_count": 14,
   "metadata": {},
   "outputs": [],
   "source": [
    "from sklearn.model_selection import train_test_split\n",
    "import numpy as np\n",
    "\n",
    "vec = train_data_vecs\n",
    "lab = np.array(train_label)\n",
    "\n",
    "vec = np.nan_to_num(vec)  # NaN 값을 0으로 모두 치환\n",
    "\n",
    "vec_train, vec_eval, lab_train, lab_eval = train_test_split(vec, lab, test_size=test_split, random_state=random_seed)"
   ]
  },
  {
   "cell_type": "code",
   "execution_count": 15,
   "metadata": {
    "scrolled": true
   },
   "outputs": [
    {
     "name": "stderr",
     "output_type": "stream",
     "text": [
      "C:\\Users\\hsfra\\Anaconda3\\lib\\site-packages\\sklearn\\linear_model\\logistic.py:432: FutureWarning: Default solver will be changed to 'lbfgs' in 0.22. Specify a solver to silence this warning.\n",
      "  FutureWarning)\n"
     ]
    },
    {
     "data": {
      "text/plain": [
       "LogisticRegression(C=1.0, class_weight='balanced', dual=False,\n",
       "                   fit_intercept=True, intercept_scaling=1, l1_ratio=None,\n",
       "                   max_iter=100, multi_class='warn', n_jobs=None, penalty='l2',\n",
       "                   random_state=None, solver='warn', tol=0.0001, verbose=0,\n",
       "                   warm_start=False)"
      ]
     },
     "execution_count": 15,
     "metadata": {},
     "output_type": "execute_result"
    }
   ],
   "source": [
    "from sklearn.linear_model import LogisticRegression\n",
    "log = LogisticRegression(class_weight = 'balanced')\n",
    "\n",
    "log.fit(vec_train, lab_train)"
   ]
  },
  {
   "cell_type": "code",
   "execution_count": 16,
   "metadata": {},
   "outputs": [
    {
     "name": "stdout",
     "output_type": "stream",
     "text": [
      "Accuracy of training: 0.596835\n",
      "Accuracy: 0.596386\n"
     ]
    }
   ],
   "source": [
    "print(\"Accuracy of training: %f\" % log.score(vec_train, lab_train))\n",
    "print(\"Accuracy: %f\" % log.score(vec_eval, lab_eval))"
   ]
  },
  {
   "cell_type": "markdown",
   "metadata": {},
   "source": [
    "## 여기서부터 테스트"
   ]
  },
  {
   "cell_type": "code",
   "execution_count": 17,
   "metadata": {},
   "outputs": [],
   "source": [
    "test_data = pd.read_csv(data_in_path + test_data)\n",
    "\n",
    "test_clause = list(test_data['clauses'])"
   ]
  },
  {
   "cell_type": "code",
   "execution_count": 18,
   "metadata": {},
   "outputs": [],
   "source": [
    "test_clauses = []\n",
    "\n",
    "for clauses in test_clause:\n",
    "    test_clauses.append(clauses.split())"
   ]
  },
  {
   "cell_type": "code",
   "execution_count": 19,
   "metadata": {},
   "outputs": [
    {
     "name": "stderr",
     "output_type": "stream",
     "text": [
      "C:\\Users\\hsfra\\Anaconda3\\lib\\site-packages\\ipykernel_launcher.py:10: DeprecationWarning: Call to deprecated `__getitem__` (Method will be removed in 4.0.0, use self.wv.__getitem__() instead).\n",
      "  # Remove the CWD from sys.path while we load stuff.\n"
     ]
    }
   ],
   "source": [
    "test_data_vecs = get_dataset(test_clauses, model, num_features)\n",
    "test_vecs = np.nan_to_num(test_data_vecs)"
   ]
  },
  {
   "cell_type": "code",
   "execution_count": 20,
   "metadata": {
    "scrolled": true
   },
   "outputs": [],
   "source": [
    "# 위에서 만든 랜덤 포레스트 분류기를 통해 예측값을 가져온다.\n",
    "result = log.predict(test_vecs)"
   ]
  },
  {
   "cell_type": "code",
   "execution_count": 21,
   "metadata": {},
   "outputs": [],
   "source": [
    "import os\n",
    "# 테스트 데이터 파일에 쓰기 -\n",
    "\n",
    "test_clauses = list(test_data['clauses'])\n",
    "test_label = list(test_data['label'])\n",
    "\n",
    "if not os.path.exists(data_out_path):\n",
    "    os.makedirs(data_out_path)\n",
    "\n",
    "# 판다스 데이터 프레임을 통해 데이터를 구성해서 output에 넣는다.\n",
    "output = pd.DataFrame( data={\"label\": test_label ,  \"predict\": result} )\n",
    "\n",
    "# 이제 csv파일로 만든다.\n",
    "output.to_csv(data_out_path + \"lg-w2v-predict-test-stem.csv\", index=False, quoting=3 )"
   ]
  },
  {
   "cell_type": "code",
   "execution_count": 22,
   "metadata": {},
   "outputs": [
    {
     "name": "stdout",
     "output_type": "stream",
     "text": [
      "------------\n",
      "Accuracy: 0.567633\n",
      "Precision: 0.615702\n",
      "Recall: 0.634043\n",
      "F1-Score: 0.624738\n"
     ]
    }
   ],
   "source": [
    "from sklearn import metrics\n",
    "\n",
    "fpr, tpr, _ = metrics.roc_curve(lab_eval, (log.predict_proba(vec_eval)[:, 1]))\n",
    "auc = metrics.auc(fpr, tpr)\n",
    "\n",
    "print(\"------------\")\n",
    "print(\"Accuracy: %f\" % log.score(test_vecs, test_data['label']))  #checking the accuracy\n",
    "print(\"Precision: %f\" % metrics.precision_score(test_data['label'], result))\n",
    "print(\"Recall: %f\" % metrics.recall_score(test_data['label'], result))\n",
    "print(\"F1-Score: %f\" % metrics.f1_score(test_data['label'], result))"
   ]
  }
 ],
 "metadata": {
  "kernelspec": {
   "display_name": "Python 3",
   "language": "python",
   "name": "python3"
  },
  "language_info": {
   "codemirror_mode": {
    "name": "ipython",
    "version": 3
   },
   "file_extension": ".py",
   "mimetype": "text/x-python",
   "name": "python",
   "nbconvert_exporter": "python",
   "pygments_lexer": "ipython3",
   "version": "3.7.4"
  }
 },
 "nbformat": 4,
 "nbformat_minor": 2
}
